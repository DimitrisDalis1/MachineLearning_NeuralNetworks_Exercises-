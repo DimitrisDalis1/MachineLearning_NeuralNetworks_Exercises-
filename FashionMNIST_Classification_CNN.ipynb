{
  "cells": [
    {
      "cell_type": "markdown",
      "source": [
        "#**CSD458 HW5**\n",
        "Classify Fashion MNist images using CNNs"
      ],
      "metadata": {
        "id": "oqhxzc5tSO6d"
      }
    },
    {
      "cell_type": "markdown",
      "source": [
        "\n",
        "\n",
        "### **PART A: Training Convolutional Neural Networks (CNNs)**\n"
      ],
      "metadata": {
        "id": "HBUI4-BVY7qe"
      }
    },
    {
      "cell_type": "code",
      "source": [
        "from keras.datasets import fashion_mnist\n",
        "from keras.models import Sequential\n",
        "from keras.layers import Dense, Dropout, Flatten\n",
        "from keras.layers import Conv2D, MaxPooling2D\n",
        "from keras import backend as K\n",
        "\n",
        "import torch\n",
        "from torchvision import datasets, transforms\n",
        "import torch.nn as nn\n",
        "import torch.optim as optim\n"
      ],
      "metadata": {
        "id": "dv3Y0wYEzLtM"
      },
      "execution_count": null,
      "outputs": []
    },
    {
      "cell_type": "markdown",
      "metadata": {
        "id": "acp_308rSHbj"
      },
      "source": [
        "\n",
        "#### 1. Download the Fashion Mnist Dataset\n",
        "\n"
      ]
    },
    {
      "cell_type": "code",
      "source": [],
      "metadata": {
        "id": "O89JS5zoym_z"
      },
      "execution_count": null,
      "outputs": []
    },
    {
      "cell_type": "markdown",
      "source": [
        "#### 2. Define the Dataset, Dataloader, Transforms. Use v2.Compose() to include even more transforms, such as rotations, crops and others.\n",
        "\n"
      ],
      "metadata": {
        "id": "qymVpNyLZAap"
      }
    },
    {
      "cell_type": "code",
      "source": [
        "# Define transformations\n",
        "transform = transforms.Compose([\n",
        "    transforms.RandomHorizontalFlip(),\n",
        "    transforms.RandomRotation(10),\n",
        "    transforms.RandomCrop(28, padding=2),\n",
        "    transforms.ToTensor(),\n",
        "    transforms.Normalize((0.5,), (0.5,))\n",
        "])\n",
        "\n",
        "# Define dataset using the transformations\n",
        "dataset = datasets.FashionMNIST(root='./data', train=True, download=True, transform=transform)\n",
        "\n",
        "# Define dataloader\n",
        "dataloader = torch.utils.data.DataLoader(dataset, batch_size=64, shuffle=True)\n",
        "\n",
        "# Define validation dataset using the transformations\n",
        "validation_dataset = datasets.FashionMNIST(root='./data', train=False, download=True, transform=transform)\n",
        "\n",
        "# Define validation dataloader\n",
        "validationloader = torch.utils.data.DataLoader(validation_dataset, batch_size=64, shuffle=True)"
      ],
      "metadata": {
        "id": "dFOjGnwxyn53"
      },
      "execution_count": null,
      "outputs": []
    },
    {
      "cell_type": "markdown",
      "source": [
        "#### 3. Make your own version of CNN and report the validatation set accuracy\n",
        "\n"
      ],
      "metadata": {
        "id": "2vX6lT_wZCHx"
      }
    },
    {
      "cell_type": "code",
      "source": [
        "# Define the CNN architecture\n",
        "class Net(nn.Module):\n",
        "    def __init__(self):\n",
        "        super(Net, self).__init__()\n",
        "        self.conv1 = nn.Conv2d(1, 32, 3, 1)\n",
        "        self.conv2 = nn.Conv2d(32, 64, 3, 1)\n",
        "        self.dropout1 = nn.Dropout2d(0.25)\n",
        "        self.dropout2 = nn.Dropout2d(0.5)\n",
        "        self.fc1 = nn.Linear(9216, 128)\n",
        "        self.fc2 = nn.Linear(128, 10)\n",
        "\n",
        "    def forward(self, x):\n",
        "        x = self.conv1(x)\n",
        "        x = nn.functional.relu(x)\n",
        "        x = self.conv2(x)\n",
        "        x = nn.functional.relu(x)\n",
        "        x = nn.functional.max_pool2d(x, 2)\n",
        "        x = self.dropout1(x)\n",
        "        x = torch.flatten(x, 1)\n",
        "        x = self.fc1(x)\n",
        "        x = nn.functional.relu(x)\n",
        "        x = self.dropout2(x)\n",
        "        output = self.fc2(x)\n",
        "        return output\n",
        "\n",
        "# Initialize the network and optimizer\n",
        "model = Net()\n",
        "optimizer = optim.Adadelta(model.parameters(), lr=1.0)\n",
        "\n",
        "# Specify the loss function\n",
        "criterion = nn.CrossEntropyLoss()\n",
        "\n",
        "# Train the network\n",
        "for epoch in range(10):  # loop over the dataset multiple times\n",
        "    running_loss = 0.0\n",
        "    for i, data in enumerate(dataloader, 0):\n",
        "        # get the inputs; data is a list of [inputs, labels]\n",
        "        inputs, labels = data\n",
        "\n",
        "        # zero the parameter gradients\n",
        "        optimizer.zero_grad()\n",
        "\n",
        "        # forward + backward + optimize\n",
        "        outputs = model(inputs)\n",
        "        loss = criterion(outputs, labels)\n",
        "        loss.backward()\n",
        "        optimizer.step()\n",
        "\n",
        "        # print statistics\n",
        "        running_loss += loss.item()\n",
        "    print(f'Epoch {epoch + 1}, Loss: {running_loss / len(dataloader)}')\n",
        "\n",
        "print('Finished Training')\n",
        "\n",
        "# Test the network on the validation data\n",
        "correct = 0\n",
        "total = 0\n",
        "with torch.no_grad():\n",
        "    for data in validationloader:\n",
        "        images, labels = data\n",
        "        outputs = model(images)\n",
        "        _, predicted = torch.max(outputs.data, 1)\n",
        "        total += labels.size(0)\n",
        "        correct += (predicted == labels).sum().item()\n",
        "\n",
        "print(f'Accuracy of the network on the validation set: {100 * correct / total}%')"
      ],
      "metadata": {
        "id": "AJt8Z0abyo-2",
        "colab": {
          "base_uri": "https://localhost:8080/"
        },
        "outputId": "b4f2f640-a14a-4e60-b7ef-19d621450fcc"
      },
      "execution_count": null,
      "outputs": [
        {
          "output_type": "stream",
          "name": "stderr",
          "text": [
            "/usr/local/lib/python3.10/dist-packages/torch/nn/functional.py:1347: UserWarning: dropout2d: Received a 2-D input to dropout2d, which is deprecated and will result in an error in a future release. To retain the behavior and silence this warning, please use dropout instead. Note that dropout2d exists to provide channel-wise dropout on inputs with 2 spatial dimensions, a channel dimension, and an optional batch dimension (i.e. 3D or 4D inputs).\n",
            "  warnings.warn(warn_msg)\n"
          ]
        },
        {
          "output_type": "stream",
          "name": "stdout",
          "text": [
            "Epoch 1, Loss: 0.7645877079605293\n",
            "Epoch 2, Loss: 0.5590282439836053\n",
            "Epoch 3, Loss: 0.49866588278683516\n",
            "Epoch 4, Loss: 0.47108646239171914\n",
            "Epoch 5, Loss: 0.4512639292903038\n",
            "Epoch 6, Loss: 0.442837883875187\n",
            "Epoch 7, Loss: 0.4384423271774737\n",
            "Epoch 8, Loss: 0.42370295780363365\n",
            "Epoch 9, Loss: 0.422589759153725\n",
            "Epoch 10, Loss: 0.41999230138274396\n",
            "Finished Training\n",
            "Accuracy of the network on the validation set: 81.99%\n"
          ]
        }
      ]
    },
    {
      "cell_type": "markdown",
      "source": [
        "#### 4. Make 2 variations of CNNs (using different convolutions or pooling parameters) and compare them.\n",
        "\n"
      ],
      "metadata": {
        "id": "2PgjFjxBZENE"
      }
    },
    {
      "cell_type": "code",
      "source": [
        "# Variation 1\n",
        "# Define the first CNN architecture\n",
        "class Net1(nn.Module):\n",
        "    def __init__(self):\n",
        "        super(Net1, self).__init__()\n",
        "        self.conv1 = nn.Conv2d(1, 32, 3, 1)\n",
        "        self.conv2 = nn.Conv2d(32, 64, 3, 1)\n",
        "        self.pool = nn.MaxPool2d(2, 2)\n",
        "        self.fc1 = nn.Linear(64 * 5 * 5, 120)\n",
        "        self.fc2 = nn.Linear(120, 84)\n",
        "        self.fc3 = nn.Linear(84, 10)\n",
        "\n",
        "    def forward(self, x):\n",
        "        x = self.pool(nn.functional.relu(self.conv1(x)))\n",
        "        x = self.pool(nn.functional.relu(self.conv2(x)))\n",
        "        x = x.view(-1, 64 * 5 * 5)\n",
        "        x = nn.functional.relu(self.fc1(x))\n",
        "        x = nn.functional.relu(self.fc2(x))\n",
        "        x = self.fc3(x)\n",
        "        return x\n"
      ],
      "metadata": {
        "id": "EuYeJDj4zGTq"
      },
      "execution_count": null,
      "outputs": []
    },
    {
      "cell_type": "code",
      "source": [
        "# Variation 2\n",
        "\n",
        "# Define the second CNN architecture\n",
        "class Net2(nn.Module):\n",
        "    def __init__(self):\n",
        "        super(Net2, self).__init__()\n",
        "        self.conv1 = nn.Conv2d(1, 32, 5, 1)\n",
        "        self.conv2 = nn.Conv2d(32, 64, 5, 1)\n",
        "        self.pool = nn.MaxPool2d(2, 2)\n",
        "        self.fc1 = nn.Linear(64 * 4 * 4, 120)\n",
        "        self.fc2 = nn.Linear(120, 84)\n",
        "        self.fc3 = nn.Linear(84, 10)\n",
        "\n",
        "    def forward(self, x):\n",
        "        x = nn.functional.relu(self.conv1(x))\n",
        "        x = self.pool(nn.functional.relu(self.conv2(x)))\n",
        "        x = x.view(-1, 64 * 4 * 4)\n",
        "        x = nn.functional.relu(self.fc1(x))\n",
        "        x = nn.functional.relu(self.fc2(x))\n",
        "        x = self.fc3(x)\n",
        "        return x\n",
        "\n",
        "# Train and evaluate the first network\n",
        "model1 = Net1()\n",
        "optimizer1 = optim.Adadelta(model1.parameters(), lr=1.0)\n",
        "# Train the network\n",
        "for epoch in range(5):  # loop over the dataset multiple times\n",
        "    running_loss = 0.0\n",
        "    for i, data in enumerate(dataloader, 0):\n",
        "        # get the inputs; data is a list of [inputs, labels]\n",
        "        inputs, labels = data\n",
        "\n",
        "        # zero the parameter gradients\n",
        "        optimizer1.zero_grad()\n",
        "\n",
        "        # forward + backward + optimize\n",
        "        outputs = model1(inputs)\n",
        "        loss = criterion(outputs, labels)\n",
        "        loss.backward()\n",
        "        optimizer1.step()\n",
        "\n",
        "        # print statistics\n",
        "        running_loss += loss.item()\n",
        "    print(f'Epoch {epoch + 1}, Loss: {running_loss / len(dataloader)}')\n",
        "\n",
        "print('Finished Training')\n",
        "\n",
        "# Test the network on the validation data\n",
        "correct = 0\n",
        "total = 0\n",
        "with torch.no_grad():\n",
        "    for data in validationloader:\n",
        "        images, labels = data\n",
        "        outputs = model1(images)\n",
        "        _, predicted = torch.max(outputs.data, 1)\n",
        "        total += labels.size(0)\n",
        "        correct += (predicted == labels).sum().item()\n",
        "print(f'Accuracy of the network on the validation set: {100 * correct / total}%')\n",
        "\n",
        "\n",
        "\n",
        "# Train and evaluate the second network\n",
        "model2 = Net2()\n",
        "optimizer2 = optim.Adadelta(model2.parameters(), lr=1.0)\n",
        "# Train the network\n",
        "for epoch in range(5):  # loop over the dataset multiple times\n",
        "    running_loss = 0.0\n",
        "    for i, data in enumerate(dataloader, 0):\n",
        "        # get the inputs; data is a list of [inputs, labels]\n",
        "        inputs, labels = data\n",
        "\n",
        "        # zero the parameter gradients\n",
        "        optimizer2.zero_grad()\n",
        "\n",
        "        # forward + backward + optimize\n",
        "        outputs = model2(inputs)\n",
        "        loss = criterion(outputs, labels)\n",
        "        loss.backward()\n",
        "        optimizer2.step()\n",
        "\n",
        "        # print statistics\n",
        "        running_loss += loss.item()\n",
        "    print(f'Epoch {epoch + 1}, Loss: {running_loss / len(dataloader)}')\n",
        "\n",
        "print('Finished Training')\n",
        "\n",
        "# Test the network on the validation data\n",
        "correct = 0\n",
        "total = 0\n",
        "with torch.no_grad():\n",
        "    for data in validationloader:\n",
        "        images, labels = data\n",
        "        outputs = model2(images)\n",
        "        _, predicted = torch.max(outputs.data, 1)\n",
        "        total += labels.size(0)\n",
        "        correct += (predicted == labels).sum().item()\n",
        "print(f'Accuracy of the network on the validation set: {100 * correct / total}%')\n",
        "\n",
        "\n"
      ],
      "metadata": {
        "id": "K_uCPLDizVBb"
      },
      "execution_count": null,
      "outputs": []
    },
    {
      "cell_type": "markdown",
      "source": [
        "#### 5. Increase the number of Layers of the CNN (the number of convolutions followed by pooling layers) and observe what happens, in terms of the progress of the training and validation losses and the final model accuracies.\n",
        "\n"
      ],
      "metadata": {
        "id": "3BB2vOh6ZHEi"
      }
    },
    {
      "cell_type": "code",
      "source": [
        "# Define the CNN architecture\n",
        "class DeepNet(nn.Module):\n",
        "    def __init__(self):\n",
        "        super(DeepNet, self).__init__()\n",
        "        self.conv1 = nn.Conv2d(1, 32, 3, 1)\n",
        "        self.conv2 = nn.Conv2d(32, 64, 3, 1)\n",
        "        self.conv3 = nn.Conv2d(64, 128, 3, 1)\n",
        "        self.conv4 = nn.Conv2d(128, 256, 3, 1)\n",
        "        self.pool = nn.MaxPool2d(2, 2)\n",
        "        self.fc1 = nn.Linear(256 * 2 * 2, 120)\n",
        "        self.fc2 = nn.Linear(120, 84)\n",
        "        self.fc3 = nn.Linear(84, 10)\n",
        "\n",
        "    def forward(self, x):\n",
        "        x = self.pool(nn.functional.relu(self.conv1(x)))\n",
        "        x = self.pool(nn.functional.relu(self.conv2(x)))\n",
        "        x = self.pool(nn.functional.relu(self.conv3(x)))\n",
        "        x = self.pool(nn.functional.relu(self.conv4(x)))\n",
        "        x = x.view(-1, 256 * 2 * 2)\n",
        "        x = nn.functional.relu(self.fc1(x))\n",
        "        x = nn.functional.relu(self.fc2(x))\n",
        "        x = self.fc3(x)\n",
        "        return x"
      ],
      "metadata": {
        "id": "LtXmE54nzHLT"
      },
      "execution_count": null,
      "outputs": []
    },
    {
      "cell_type": "markdown",
      "source": [
        "#### 6. Visualize some of the Feature Maps and Convolution Kernels that you find interesting."
      ],
      "metadata": {
        "id": "c1vGCvngZJXv"
      }
    },
    {
      "cell_type": "code",
      "source": [
        "import matplotlib.pyplot as plt\n",
        "import numpy as np\n",
        "model.eval()  # Set the model to evaluation mode\n",
        "# Get one batch of images from the dataloader\n",
        "data, labels = next(iter(dataloader))\n",
        "\n",
        "\n",
        "\n",
        "# Forward pass through the first convolutional layer\n",
        "conv1_output = model.conv1(data)\n",
        "\n",
        "# Detach the output from the computation graph and convert it to a numpy array\n",
        "conv1_output = conv1_output.detach().numpy()\n",
        "\n",
        "# Plot the feature maps\n",
        "fig, axs = plt.subplots(1, conv1_output.shape[1], figsize=(20, 20))\n",
        "for i in range(conv1_output.shape[1]):\n",
        "    axs[i].imshow(conv1_output[0, i, :, :], cmap='gray')\n",
        "plt.show()\n",
        "\n",
        "# Visualize the convolutional kernels in the first layer\n",
        "weights1 = model.conv1.weight.data\n",
        "w = weights1.numpy()\n",
        "\n",
        "# Plot the convolutional kernels\n",
        "fig, axs = plt.subplots(1, w.shape[0], figsize=(20, 20))\n",
        "for i in range(w.shape[0]):\n",
        "    axs[i].imshow(w[i, 0, :, :], cmap='gray')\n",
        "plt.show()"
      ],
      "metadata": {
        "id": "WaOHgiDtzHyY",
        "colab": {
          "base_uri": "https://localhost:8080/",
          "height": 190
        },
        "outputId": "401cbf38-12d1-4bcb-cafe-da5fee002bdb"
      },
      "execution_count": null,
      "outputs": [
        {
          "output_type": "display_data",
          "data": {
            "text/plain": [
              "<Figure size 2000x2000 with 32 Axes>"
            ],
            "image/png": "[encoded data removed]"
          },
          "metadata": {}
        },
        {
          "output_type": "display_data",
          "data": {
            "text/plain": [
              "<Figure size 2000x2000 with 32 Axes>"
            ],
            "image/png": "[encoded data removed]"
          },
          "metadata": {}
        }
      ]
    },
    {
      "cell_type": "markdown",
      "source": [
        "### **PART B: Transfer Learning**\n",
        "\n",
        "\n",
        "\n",
        "\n",
        "\n"
      ],
      "metadata": {
        "id": "l69a3r-KS-Te"
      }
    },
    {
      "cell_type": "markdown",
      "source": [
        "#### 1. Load a Pretrained model (the simpler the better for computational efficiency e.g.resnet16). You are gonna use it to train your model on Fashion Mnist"
      ],
      "metadata": {
        "id": "xX6re9CCycLQ"
      }
    },
    {
      "cell_type": "code",
      "source": [
        "import torch\n",
        "import torchvision\n",
        "import torchvision.transforms as transforms\n",
        "from torchvision.models import resnet18\n",
        "\n",
        "# Load the FashionMNIST dataset\n",
        "transform = transforms.Compose([transforms.ToTensor(), transforms.Normalize((0.5,), (0.5,))])\n",
        "trainset = torchvision.datasets.FashionMNIST(root='./data', train=True, download=True, transform=transform)\n",
        "trainloader = torch.utils.data.DataLoader(trainset, batch_size=64, shuffle=True)\n",
        "\n",
        "# Load a pretrained ResNet model\n",
        "model = resnet18(pretrained=True)\n",
        "\n",
        "# Modify the first layer\n",
        "model.conv1 = torch.nn.Conv2d(1, 64, kernel_size=(7, 7), stride=(2, 2), padding=(3, 3), bias=False)\n",
        "\n",
        "# Change the final layer to match the number of classes in the FashionMNIST dataset\n",
        "model.fc = torch.nn.Linear(512, 10)\n",
        "\n",
        "# Define a loss function and optimizer\n",
        "criterion = torch.nn.CrossEntropyLoss()\n",
        "optimizer = torch.optim.SGD(model.parameters(), lr=0.001, momentum=0.9)\n",
        "\n",
        "# Train the model\n",
        "for epoch in range(2):  # loop over the dataset multiple times\n",
        "    running_loss = 0.0\n",
        "    for i, data in enumerate(trainloader, 0):\n",
        "        # get the inputs; data is a list of [inputs, labels]\n",
        "        inputs, labels = data\n",
        "\n",
        "        # zero the parameter gradients\n",
        "        optimizer.zero_grad()\n",
        "\n",
        "        # forward + backward + optimize\n",
        "        outputs = model(inputs)\n",
        "        loss = criterion(outputs, labels)\n",
        "        loss.backward()\n",
        "        optimizer.step()\n",
        "\n",
        "        # print statistics\n",
        "        running_loss += loss.item()\n",
        "        if i % 2000 == 1999:    # print every 2000 mini-batches\n",
        "            print('[%d, %5d] loss: %.3f' % (epoch + 1, i + 1, running_loss / 2000))\n",
        "            running_loss = 0.0\n",
        "\n",
        "print('Finished Training')\n"
      ],
      "metadata": {
        "id": "uMdhPbHZyhJR",
        "colab": {
          "base_uri": "https://localhost:8080/"
        },
        "outputId": "72dd840a-2714-4c6f-d2d4-25b9f5a7c724"
      },
      "execution_count": null,
      "outputs": [
        {
          "output_type": "stream",
          "name": "stdout",
          "text": [
            "Finished Training\n"
          ]
        }
      ]
    },
    {
      "cell_type": "markdown",
      "source": [
        "#### 2. Freeze the BackBone of the pretrained model (Convolutions etc) and modify the final fully connected layer/layers that perform classification (make sure the new output dimension matches the number of classes in Fashion Mnist)"
      ],
      "metadata": {
        "id": "Z5cFP61nyeYg"
      }
    },
    {
      "cell_type": "code",
      "source": [
        "# Load a pretrained ResNet model\n",
        "model = resnet18(pretrained=True)\n",
        "\n",
        "# Modify the first layer\n",
        "model.conv1 = torch.nn.Conv2d(1, 64, kernel_size=(7, 7), stride=(2, 2), padding=(3, 3), bias=False)\n",
        "\n",
        "# Freeze all layers\n",
        "for param in model.parameters():\n",
        "    param.requires_grad = False\n",
        "\n",
        "# Modify the final layer to match the number of classes in the FashionMNIST dataset\n",
        "model.fc = torch.nn.Linear(512, 10)\n",
        "\n",
        "# Now, only the parameters of the final layer have requires_grad=True\n",
        "optimizer = torch.optim.SGD(model.fc.parameters(), lr=0.001, momentum=0.9)\n",
        "\n",
        "# Define a loss function\n",
        "criterion = torch.nn.CrossEntropyLoss()\n",
        "\n",
        "# Train the model\n",
        "for epoch in range(2):  # loop over the dataset multiple times\n",
        "    running_loss = 0.0\n",
        "    for i, data in enumerate(trainloader, 0):\n",
        "        # get the inputs; data is a list of [inputs, labels]\n",
        "        inputs, labels = data\n",
        "\n",
        "        # zero the parameter gradients\n",
        "        optimizer.zero_grad()\n",
        "\n",
        "        # forward + backward + optimize\n",
        "        outputs = model(inputs)\n",
        "        loss = criterion(outputs, labels)\n",
        "        loss.backward()\n",
        "        optimizer.step()\n",
        "\n",
        "        # print statistics\n",
        "        running_loss += loss.item()\n",
        "    # print average loss over the epoch\n",
        "    print('[%d] loss: %.3f' % (epoch + 1, running_loss / len(trainloader)))\n",
        "\n",
        "print('Finished Training')"
      ],
      "metadata": {
        "id": "W3SDIPmLyh5t",
        "colab": {
          "base_uri": "https://localhost:8080/"
        },
        "outputId": "b0273b93-8685-4ed1-d0a9-b9d569424cb4"
      },
      "execution_count": null,
      "outputs": [
        {
          "output_type": "stream",
          "name": "stdout",
          "text": [
            "[1] loss: 1.260\n",
            "[2] loss: 1.057\n",
            "Finished Training\n"
          ]
        }
      ]
    },
    {
      "cell_type": "markdown",
      "source": [
        "#### 3. Train the model on Fashion Mnist for a few epoches and log your train/val loss progress as well as the final model accuracy on the validation set."
      ],
      "metadata": {
        "id": "zHQmtgS0yYC_"
      }
    },
    {
      "cell_type": "code",
      "source": [
        "from sklearn.metrics import accuracy_score\n",
        "# Load the validation set\n",
        "valset = torchvision.datasets.FashionMNIST(root='./data', train=False, download=True, transform=transform)\n",
        "valloader = torch.utils.data.DataLoader(valset, batch_size=64, shuffle=False)\n",
        "\n",
        "# Load a pretrained ResNet model\n",
        "model = resnet18(pretrained=True)\n",
        "\n",
        "# Modify the first layer\n",
        "model.conv1 = torch.nn.Conv2d(1, 64, kernel_size=(7, 7), stride=(2, 2), padding=(3, 3), bias=False)\n",
        "\n",
        "# Freeze all layers\n",
        "for param in model.parameters():\n",
        "    param.requires_grad = False\n",
        "\n",
        "# Modify the final layer to match the number of classes in the FashionMNIST dataset\n",
        "model.fc = torch.nn.Linear(512, 10)\n",
        "\n",
        "# Define a loss function and optimizer\n",
        "criterion = torch.nn.CrossEntropyLoss()\n",
        "optimizer = torch.optim.SGD(model.fc.parameters(), lr=0.001, momentum=0.9)\n",
        "\n",
        "# Train the model\n",
        "for epoch in range(2):  # loop over the dataset multiple times\n",
        "    running_loss = 0.0\n",
        "    for i, data in enumerate(trainloader, 0):\n",
        "        # get the inputs; data is a list of [inputs, labels]\n",
        "        inputs, labels = data\n",
        "\n",
        "        # zero the parameter gradients\n",
        "        optimizer.zero_grad()\n",
        "\n",
        "        # forward + backward + optimize\n",
        "        outputs = model(inputs)\n",
        "        loss = criterion(outputs, labels)\n",
        "        loss.backward()\n",
        "        optimizer.step()\n",
        "\n",
        "        # print statistics\n",
        "        running_loss += loss.item()\n",
        "    # print average loss over the epoch\n",
        "    print('[%d] loss: %.3f' % (epoch + 1, running_loss / len(trainloader)))\n",
        "\n",
        "print('Finished Training')\n",
        "\n",
        "# Evaluate the model on the validation set\n",
        "model.eval()  # set the model to evaluation mode\n",
        "with torch.no_grad():\n",
        "    val_preds = []\n",
        "    val_labels = []\n",
        "    for data in valloader:\n",
        "        inputs, labels = data\n",
        "        outputs = model(inputs)\n",
        "        _, predicted = torch.max(outputs.data, 1)\n",
        "        val_preds.extend(predicted.numpy())\n",
        "        val_labels.extend(labels.numpy())\n",
        "\n",
        "# Compute the accuracy\n",
        "accuracy = accuracy_score(val_labels, val_preds)\n",
        "print('Accuracy on the validation set: %.2f%%' % (accuracy * 100))"
      ],
      "metadata": {
        "colab": {
          "base_uri": "https://localhost:8080/"
        },
        "id": "gi5MCFKLmLeC",
        "outputId": "6cdf43cf-22a6-4b5f-faff-7c5dedb29ce9"
      },
      "execution_count": null,
      "outputs": [
        {
          "output_type": "stream",
          "name": "stderr",
          "text": [
            "/usr/local/lib/python3.10/dist-packages/torchvision/models/_utils.py:208: UserWarning: The parameter 'pretrained' is deprecated since 0.13 and may be removed in the future, please use 'weights' instead.\n",
            "  warnings.warn(\n",
            "/usr/local/lib/python3.10/dist-packages/torchvision/models/_utils.py:223: UserWarning: Arguments other than a weight enum or `None` for 'weights' are deprecated since 0.13 and may be removed in the future. The current behavior is equivalent to passing `weights=ResNet18_Weights.IMAGENET1K_V1`. You can also use `weights=ResNet18_Weights.DEFAULT` to get the most up-to-date weights.\n",
            "  warnings.warn(msg)\n"
          ]
        },
        {
          "output_type": "stream",
          "name": "stdout",
          "text": [
            "Finished Training\n",
            "Accuracy on the validation set: 64.20%\n"
          ]
        }
      ]
    },
    {
      "cell_type": "markdown",
      "source": [
        "#### **Optional:** If you are interested you can also unfreeze the final convolutions of the pretrained model to Fine Tune it. You can even visualize the Feature Maps of you model."
      ],
      "metadata": {
        "id": "pm8mzHuKykll"
      }
    },
    {
      "cell_type": "markdown",
      "source": [
        "#### *Guidelines*: The goal of this assignment is that you play around a little bit with terms and notions introduced. You don' t have to train your models for ages. 5-10 epoches will suffice. We just want to see that you can make a model properly, train it and log some results."
      ],
      "metadata": {
        "id": "yORqJmiOY2Qm"
      }
    }
  ],
  "metadata": {
    "language_info": {
      "name": "python"
    },
    "colab": {
      "provenance": []
    },
    "kernelspec": {
      "name": "python3",
      "display_name": "Python 3"
    }
  },
  "nbformat": 4,
  "nbformat_minor": 0
}
