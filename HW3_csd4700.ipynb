{
  "nbformat": 4,
  "nbformat_minor": 0,
  "metadata": {
    "colab": {
      "provenance": []
    },
    "kernelspec": {
      "name": "python3",
      "display_name": "Python 3"
    },
    "language_info": {
      "name": "python"
    }
  },
  "cells": [
    {
      "cell_type": "markdown",
      "source": [
        "Loading the Dataset"
      ],
      "metadata": {
        "id": "X9mGx6t6CEkd"
      }
    },
    {
      "cell_type": "code",
      "source": [
        "from sklearn.datasets import load_wine\n",
        "from sklearn.model_selection import train_test_split, GridSearchCV\n",
        "from sklearn import svm\n",
        "from sklearn.metrics import accuracy_score, precision_score, recall_score, f1_score, confusion_matrix\n",
        "from sklearn.preprocessing import StandardScaler\n",
        "import numpy as np\n",
        "import matplotlib.pyplot as plt\n",
        "from sklearn.model_selection import cross_val_score\n",
        "import seaborn as sns\n",
        "\n",
        "# Load the Wine dataset\n",
        "wine = load_wine()\n",
        "\n",
        "# Print the structure and features of the dataset\n",
        "print(\"Feature names:\")\n",
        "print(wine.feature_names)\n",
        "\n",
        "print(\"\\nTarget names:\")\n",
        "print(wine.target_names)\n",
        "\n",
        "print(\"\\nFirst 5 rows of data:\")\n",
        "print(wine.data[:5])\n",
        "\n",
        "print(\"\\nTarget:\")\n",
        "print(wine.target[:178])\n",
        "\n",
        "print(\"\\nThe shape:\")\n",
        "print(wine.data.shape)\n",
        "\n"
      ],
      "metadata": {
        "colab": {
          "base_uri": "https://localhost:8080/"
        },
        "id": "tdsZbxfqBYjx",
        "outputId": "4c2374c1-d1e9-471f-822f-469101c6b678"
      },
      "execution_count": null,
      "outputs": [
        {
          "output_type": "stream",
          "name": "stdout",
          "text": [
            "Feature names:\n",
            "['alcohol', 'malic_acid', 'ash', 'alcalinity_of_ash', 'magnesium', 'total_phenols', 'flavanoids', 'nonflavanoid_phenols', 'proanthocyanins', 'color_intensity', 'hue', 'od280/od315_of_diluted_wines', 'proline']\n",
            "\n",
            "Target names:\n",
            "['class_0' 'class_1' 'class_2']\n",
            "\n",
            "First 5 rows of data:\n",
            "[[1.423e+01 1.710e+00 2.430e+00 1.560e+01 1.270e+02 2.800e+00 3.060e+00\n",
            "  2.800e-01 2.290e+00 5.640e+00 1.040e+00 3.920e+00 1.065e+03]\n",
            " [1.320e+01 1.780e+00 2.140e+00 1.120e+01 1.000e+02 2.650e+00 2.760e+00\n",
            "  2.600e-01 1.280e+00 4.380e+00 1.050e+00 3.400e+00 1.050e+03]\n",
            " [1.316e+01 2.360e+00 2.670e+00 1.860e+01 1.010e+02 2.800e+00 3.240e+00\n",
            "  3.000e-01 2.810e+00 5.680e+00 1.030e+00 3.170e+00 1.185e+03]\n",
            " [1.437e+01 1.950e+00 2.500e+00 1.680e+01 1.130e+02 3.850e+00 3.490e+00\n",
            "  2.400e-01 2.180e+00 7.800e+00 8.600e-01 3.450e+00 1.480e+03]\n",
            " [1.324e+01 2.590e+00 2.870e+00 2.100e+01 1.180e+02 2.800e+00 2.690e+00\n",
            "  3.900e-01 1.820e+00 4.320e+00 1.040e+00 2.930e+00 7.350e+02]]\n",
            "\n",
            "Target:\n",
            "[0 0 0 0 0 0 0 0 0 0 0 0 0 0 0 0 0 0 0 0 0 0 0 0 0 0 0 0 0 0 0 0 0 0 0 0 0\n",
            " 0 0 0 0 0 0 0 0 0 0 0 0 0 0 0 0 0 0 0 0 0 0 1 1 1 1 1 1 1 1 1 1 1 1 1 1 1\n",
            " 1 1 1 1 1 1 1 1 1 1 1 1 1 1 1 1 1 1 1 1 1 1 1 1 1 1 1 1 1 1 1 1 1 1 1 1 1\n",
            " 1 1 1 1 1 1 1 1 1 1 1 1 1 1 1 1 1 1 1 2 2 2 2 2 2 2 2 2 2 2 2 2 2 2 2 2 2\n",
            " 2 2 2 2 2 2 2 2 2 2 2 2 2 2 2 2 2 2 2 2 2 2 2 2 2 2 2 2 2 2]\n",
            "\n",
            "The shape:\n",
            "(178, 13)\n"
          ]
        }
      ]
    },
    {
      "cell_type": "markdown",
      "source": [
        "Data Preprocessing"
      ],
      "metadata": {
        "id": "HSK16ht5Dfv7"
      }
    },
    {
      "cell_type": "code",
      "source": [
        "# Standardize the features\n",
        "scaler = StandardScaler()\n",
        "X = scaler.fit_transform(X)\n",
        "\n",
        "# Split the dataset into features and target labels\n",
        "X = wine.data\n",
        "y = wine.target\n",
        "\n",
        "print(\"Features shape:\", X.shape)\n",
        "print(\"Target shape:\", y.shape)"
      ],
      "metadata": {
        "colab": {
          "base_uri": "https://localhost:8080/"
        },
        "id": "j38r3SQeDiuB",
        "outputId": "a1d3b420-3a1b-4b94-8e3e-be9557325b15"
      },
      "execution_count": null,
      "outputs": [
        {
          "output_type": "stream",
          "name": "stdout",
          "text": [
            "Features shape: (178, 13)\n",
            "Target shape: (178,)\n"
          ]
        }
      ]
    },
    {
      "cell_type": "code",
      "source": [
        "# Split the data into training and testing sets\n",
        "X_train, X_test, y_train, y_test = train_test_split(X, y, test_size=0.2, random_state=42)\n",
        "\n",
        "print(\"Training set size (features):\", X_train.shape)\n",
        "print(\"Test set size (features):\", X_test.shape)\n",
        "print(\"Training set size (target):\", y_train.shape)\n",
        "print(\"Test set size (target):\", y_test.shape)"
      ],
      "metadata": {
        "colab": {
          "base_uri": "https://localhost:8080/"
        },
        "id": "opwySi5OD1m3",
        "outputId": "aaa41ad9-5c4c-492c-c049-57344192609f"
      },
      "execution_count": null,
      "outputs": [
        {
          "output_type": "stream",
          "name": "stdout",
          "text": [
            "Training set size (features): (142, 13)\n",
            "Test set size (features): (36, 13)\n",
            "Training set size (target): (142,)\n",
            "Test set size (target): (36,)\n"
          ]
        }
      ]
    },
    {
      "cell_type": "markdown",
      "source": [
        "Baseline Model"
      ],
      "metadata": {
        "id": "hNjfA9iPEB7N"
      }
    },
    {
      "cell_type": "code",
      "source": [
        "# Define the kernel functions to experiment with\n",
        "kernels = ['linear', 'poly', 'rbf']\n",
        "\n",
        "for kernel in kernels:\n",
        "    # Train a SVM model\n",
        "    clf = svm.SVC(kernel=kernel)\n",
        "    clf.fit(X_train, y_train)\n",
        "\n",
        "    # Make predictions on the testing set\n",
        "    y_pred = clf.predict(X_test)\n",
        "\n",
        "    # Evaluate the model's performance\n",
        "    print(f\"\\nKernel: {kernel}\")\n",
        "    print(\"Accuracy:\", accuracy_score(y_test, y_pred))\n",
        "    print(\"Precision:\", precision_score(y_test, y_pred, average='weighted'))\n",
        "    print(\"Recall:\", recall_score(y_test, y_pred, average='weighted'))\n",
        "    print(\"F1-score:\", f1_score(y_test, y_pred, average='weighted'))"
      ],
      "metadata": {
        "colab": {
          "base_uri": "https://localhost:8080/"
        },
        "id": "k-AZBobREDzH",
        "outputId": "609a979d-f8bf-49f5-e1f4-55a564a75121"
      },
      "execution_count": null,
      "outputs": [
        {
          "output_type": "stream",
          "name": "stdout",
          "text": [
            "\n",
            "Kernel: linear\n",
            "Accuracy: 1.0\n",
            "Precision: 1.0\n",
            "Recall: 1.0\n",
            "F1-score: 1.0\n",
            "\n",
            "Kernel: poly\n",
            "Accuracy: 0.8333333333333334\n",
            "Precision: 0.8717348927875244\n",
            "Recall: 0.8333333333333334\n",
            "F1-score: 0.794334146058284\n",
            "\n",
            "Kernel: rbf\n",
            "Accuracy: 0.8055555555555556\n",
            "Precision: 0.801058201058201\n",
            "Recall: 0.8055555555555556\n",
            "F1-score: 0.80242656449553\n"
          ]
        }
      ]
    },
    {
      "cell_type": "markdown",
      "source": [
        "Data Normalization"
      ],
      "metadata": {
        "id": "jsWetRJ0FGjK"
      }
    },
    {
      "cell_type": "code",
      "source": [
        "#I have added comments on how I would normalize the data at the data preprocessing tab"
      ],
      "metadata": {
        "id": "bprRGzfwFHMD"
      },
      "execution_count": null,
      "outputs": []
    },
    {
      "cell_type": "markdown",
      "source": [
        "Hyperparameter Tuning"
      ],
      "metadata": {
        "id": "QDjdXs47F_he"
      }
    },
    {
      "cell_type": "code",
      "source": [
        "# Define the hyperparameters to tune\n",
        "param_grid = {'C': [0.1, 1, 10, 100, 1000],\n",
        "              'kernel': ['linear', 'poly', 'rbf']}\n",
        "\n",
        "# Create a GridSearchCV object\n",
        "grid = GridSearchCV(svm.SVC(), param_grid, refit=True, verbose=3)\n",
        "\n",
        "# Fit the model to the data\n",
        "grid.fit(X_train, y_train)\n",
        "\n",
        "# Print the best parameters\n",
        "print(\"Best parameters found by grid search:\")\n",
        "print(grid.best_params_)\n",
        "\n",
        "# Make predictions on the testing set using the best model\n",
        "y_pred = grid.predict(X_test)\n",
        "\n",
        "# Evaluate the model's performance\n",
        "print(\"\\nAccuracy:\", accuracy_score(y_test, y_pred))\n",
        "print(\"Precision:\", precision_score(y_test, y_pred, average='weighted'))\n",
        "print(\"Recall:\", recall_score(y_test, y_pred, average='weighted'))\n",
        "print(\"F1-score:\", f1_score(y_test, y_pred, average='weighted'))"
      ],
      "metadata": {
        "id": "Aa7TJEIwGAJX"
      },
      "execution_count": null,
      "outputs": []
    },
    {
      "cell_type": "markdown",
      "source": [
        "Effects of Data Size"
      ],
      "metadata": {
        "id": "Qe3P_NDuGAYd"
      }
    },
    {
      "cell_type": "code",
      "source": [
        "# Define the SVM model\n",
        "clf = svm.SVC(kernel='linear')\n",
        "\n",
        "# Define the number of folds for cross-validation\n",
        "cv_folds = [5, 10, 15, 20, 25, 30]\n",
        "\n",
        "# Store the average cross-validation score for each number of folds\n",
        "cv_scores = []\n",
        "\n",
        "for folds in cv_folds:\n",
        "    # Perform cross-validation and compute the average score\n",
        "    scores = cross_val_score(clf, X, y, cv=folds)\n",
        "    cv_scores.append(np.mean(scores))\n",
        "\n",
        "# Plot the relationship between training size (number of CV folds) and model performance (CV score)\n",
        "plt.figure(figsize=(10, 6))\n",
        "plt.plot(cv_folds, cv_scores, marker='o')\n",
        "plt.title('Effect of Training Size on Model Performance')\n",
        "plt.xlabel('Number of CV Folds (Proportional to Training Size)')\n",
        "plt.ylabel('Average CV Score')\n",
        "plt.grid(True)\n",
        "plt.show()"
      ],
      "metadata": {
        "id": "LOt0BszsGBvG"
      },
      "execution_count": null,
      "outputs": []
    },
    {
      "cell_type": "markdown",
      "source": [
        "Model Evaluation"
      ],
      "metadata": {
        "id": "37CtARUDGCGS"
      }
    },
    {
      "cell_type": "code",
      "source": [
        "# Plot the confusion matrix\n",
        "cm = confusion_matrix(y_test, y_pred)\n",
        "sns.heatmap(cm, annot=True, fmt='d')\n",
        "plt.title('Confusion Matrix')\n",
        "plt.xlabel('Predicted Label')\n",
        "plt.ylabel('True Label')\n",
        "plt.show()"
      ],
      "metadata": {
        "colab": {
          "base_uri": "https://localhost:8080/",
          "height": 472
        },
        "id": "XcO8RR3jGDcY",
        "outputId": "ff3331bd-9e5b-4b14-dc60-2346a9191c38"
      },
      "execution_count": null,
      "outputs": [
        {
          "output_type": "display_data",
          "data": {
            "text/plain": [
              "<Figure size 640x480 with 2 Axes>"
            ],
            "image/png": "[encoded data removed]"
          },
          "metadata": {}
        }
      ]
    }
  ]
}